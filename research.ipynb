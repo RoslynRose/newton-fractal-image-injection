{
 "cells": [
  {
   "cell_type": "code",
   "execution_count": 52,
   "metadata": {},
   "outputs": [],
   "source": [
    "from sympy import Add, Mul, symbols, sympify, I, ccode, expand, diff, simplify\n"
   ]
  },
  {
   "cell_type": "markdown",
   "metadata": {},
   "source": [
    "we could make it so that an array represents a 'pathway' of operation and then is procedurally operated through in the opencl kernel. this would allow functions to be passed in without recompiling the kernel. would likely lead to optimization loss\n",
    "\n",
    "for now we are using a method in which c++ is generated and compiled in along with helper functions that allow it to process the injected mathematics.\n",
    "\n",
    "maybe a compromise between the two methods could be found?"
   ]
  },
  {
   "cell_type": "code",
   "execution_count": 53,
   "metadata": {},
   "outputs": [
    {
     "name": "stdout",
     "output_type": "stream",
     "text": [
      "x**3 - 3*x*y**2 - 1\n",
      "3*x**2*y - y**3\n",
      "3*x**2 - 3*y**2\n",
      "-6*x*y\n",
      "6*x*y\n",
      "3*x**2 - 3*y**2\n"
     ]
    }
   ],
   "source": [
    "def compute_derivatives(expr_str, var='z', real_var='x', imag_var='y', param='w'):\n",
    "    x, y, a = symbols(f'{real_var} {imag_var} {param}', real=True)\n",
    "    z = x + I*y\n",
    "    expr = sympify(expr_str)\n",
    "    expr = expr.subs(var, z)\n",
    "    expr_expanded = expand(expr)\n",
    "    f_real = expr_expanded.as_real_imag()[0]\n",
    "    f_imag = expr_expanded.as_real_imag()[1]\n",
    "\n",
    "    f_prime_real_x = diff(f_real, x)\n",
    "    f_prime_real_y = diff(f_real, y)\n",
    "    f_prime_imag_x = diff(f_imag, x)\n",
    "    f_prime_imag_y = diff(f_imag, y)\n",
    "\n",
    "    return f_real, f_imag, f_prime_real_x, f_prime_real_y, f_prime_imag_x, f_prime_imag_y\n",
    "\n",
    "#introduces I\n",
    "f = \"(cos(sin(I/z))*z*z*z-1)/(cos(sin(z*z*z*z-1)))\"\n",
    "\n",
    "f = \"z*z*z-1\"\n",
    "\n",
    "f_real, f_imag, f_prime_real_x, f_prime_real_y, f_prime_imag_x, f_prime_imag_y = compute_derivatives(f)\n",
    "for q in f_real, f_imag, f_prime_real_x, f_prime_real_y, f_prime_imag_x, f_prime_imag_y:\n",
    "    print(q)"
   ]
  },
  {
   "cell_type": "code",
   "execution_count": 54,
   "metadata": {},
   "outputs": [
    {
     "name": "stdout",
     "output_type": "stream",
     "text": [
      "complex_add_real(-1 + Pow(x, 3) + complex_mul_real(-3 * x * Pow(y, 2), 1, 0, 0), complex_mul_imag(-3 * x * Pow(y, 2), 1, 0, 0), 0, 0, 0)\n",
      "complex_add_real(complex_mul_real(-1 * Pow(y, 3), 1, 0, 0), complex_mul_imag(-1 * Pow(y, 3), 1, 0, 0) + complex_mul_real(3 * y * Pow(x, 2), 1, 0, 0), complex_mul_imag(3 * y * Pow(x, 2), 1, 0, 0), 0, 0, 0)\n",
      "complex_add_real(complex_mul_real(-3 * Pow(y, 2), 1, 0, 0), complex_mul_imag(-3 * Pow(y, 2), 1, 0, 0) + complex_mul_real(3 * Pow(x, 2), 1, 0, 0), complex_mul_imag(3 * Pow(x, 2), 1, 0, 0), 0, 0, 0)\n",
      "complex_mul_real(-6 * x * y, 1, 0, 0), complex_mul_imag(-6 * x * y, 1, 0, 0)\n",
      "complex_mul_real(6 * x * y, 1, 0, 0), complex_mul_imag(6 * x * y, 1, 0, 0)\n",
      "complex_add_real(complex_mul_real(-3 * Pow(y, 2), 1, 0, 0), complex_mul_imag(-3 * Pow(y, 2), 1, 0, 0) + complex_mul_real(3 * Pow(x, 2), 1, 0, 0), complex_mul_imag(3 * Pow(x, 2), 1, 0, 0), 0, 0, 0)\n"
     ]
    }
   ],
   "source": [
    "def handle_complex_operations(expr, depth=0):\n",
    "    \"\"\"\n",
    "    Recursively handle complex operations by breaking them down into equivalent sequences \n",
    "    of real arithmetic operations and calls to helper functions.\n",
    "    \"\"\"\n",
    "    x, y = symbols('x y', real=True)\n",
    "    z = x + I*y\n",
    "\n",
    "    # Base case: if the expression is atomic (i.e., cannot be broken down further)\n",
    "    if expr.is_Atom:\n",
    "        return ccode(expr).replace(\"I\", \"1\")  # Replacing I representation\n",
    "\n",
    "    # Recursive case\n",
    "    refined_parts = []\n",
    "    for part in expr.args:\n",
    "        refined_parts.append(handle_complex_operations(part, depth + 1))\n",
    "\n",
    "    # Replacement with helper functions\n",
    "    if expr.func == Add:\n",
    "        # Handle addition\n",
    "        real_parts = [part for part in refined_parts if \"I\" not in part]\n",
    "        imag_parts = [part.replace('*I', '') for part in refined_parts if \"I\" in part]\n",
    "        \n",
    "        real_str = ' + '.join(real_parts) if real_parts else '0'\n",
    "        imag_str = ' + '.join(imag_parts) if imag_parts else '0'\n",
    "        return f\"complex_add_real({real_str}, {imag_str}, 0, 0)\"\n",
    "    \n",
    "    elif expr.func == Mul:\n",
    "        # Handle multiplication\n",
    "        real_parts = [part for part in refined_parts if \"I\" not in part]\n",
    "        imag_parts = [part.replace('*I', '') for part in refined_parts if \"I\" in part]\n",
    "        \n",
    "        real_str = ' * '.join(real_parts) if real_parts else '1'\n",
    "        imag_str = ' * '.join(imag_parts) if imag_parts else '1'\n",
    "        \n",
    "        return (f\"complex_mul_real({real_str}, {imag_str}, 0, 0), \"\n",
    "                f\"complex_mul_imag({real_str}, {imag_str}, 0, 0)\")\n",
    "    \n",
    "    elif expr.func == Pow and '-1' in ccode(expr.args[1]):\n",
    "        # Handle division\n",
    "        numerator = refined_parts[0]\n",
    "        denominator = refined_parts[1].replace('pow(', '').replace(', -1)', '')\n",
    "        \n",
    "        return (f\"complex_div_real({numerator}, 0, {denominator}, 0), \"\n",
    "                f\"complex_div_imag({numerator}, 0, {denominator}, 0)\")\n",
    "    \n",
    "    else:\n",
    "        # For other operations, just join the parts with the function name\n",
    "        return f\"{expr.func.__name__}({', '.join(refined_parts)})\"\n",
    "\n",
    "for q in f_real, f_imag, f_prime_real_x, f_prime_real_y, f_prime_imag_x, f_prime_imag_y:\n",
    "    print(handle_complex_operations(q))\n"
   ]
  }
 ],
 "metadata": {
  "kernelspec": {
   "display_name": "Python 3 (ipykernel)",
   "language": "python",
   "name": "python3"
  },
  "language_info": {
   "codemirror_mode": {
    "name": "ipython",
    "version": 3
   },
   "file_extension": ".py",
   "mimetype": "text/x-python",
   "name": "python",
   "nbconvert_exporter": "python",
   "pygments_lexer": "ipython3",
   "version": "3.11.4"
  }
 },
 "nbformat": 4,
 "nbformat_minor": 4
}
