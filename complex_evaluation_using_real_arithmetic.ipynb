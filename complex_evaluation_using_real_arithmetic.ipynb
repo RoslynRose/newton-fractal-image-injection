{
 "cells": [
  {
   "cell_type": "markdown",
   "id": "6a9dfed1",
   "metadata": {},
   "source": [
    "\n",
    "# Evaluating Complex Functions Using Real Arithmetic\n",
    "\n",
    "This notebook presents a method to evaluate complex functions using only real arithmetic. \n",
    "This is especially useful in environments where complex mathematics libraries are unavailable.\n",
    "\n",
    "We'll follow the approach below:\n",
    "1. Represent complex functions as arrays of operations.\n",
    "2. Use real arithmetic to evaluate these operations.\n",
    "\n",
    "Let's dive in!\n"
   ]
  },
  {
   "cell_type": "code",
   "execution_count": 1,
   "id": "9656ad4b",
   "metadata": {},
   "outputs": [],
   "source": [
    "\n",
    "from math import sin, sinh, cos, cosh, atan2\n"
   ]
  },
  {
   "cell_type": "code",
   "execution_count": 2,
   "id": "ede76370",
   "metadata": {},
   "outputs": [],
   "source": [
    "\n",
    "def complex_mul(z1, z2):\n",
    "    \"\"\"Multiply two complex numbers represented as tuples.\"\"\"\n",
    "    a1, b1 = z1\n",
    "    a2, b2 = z2\n",
    "    return (a1 * a2 - b1 * b2, a1 * b2 + a2 * b1)\n",
    "\n",
    "def complex_cos(z):\n",
    "    \"\"\"Cosine of a complex number represented as a tuple.\"\"\"\n",
    "    a, b = z\n",
    "    return (cos(a) * cosh(b), -sin(a) * sinh(b))\n",
    "\n",
    "def complex_pow(z, n):\n",
    "    \"\"\"Raise a complex number represented as a tuple to a power.\"\"\"\n",
    "    a, b = z\n",
    "    magnitude = (a**2 + b**2) ** (n/2)\n",
    "    angle = atan2(b, a)\n",
    "    return (magnitude * cos(n * angle), magnitude * sin(n * angle))\n",
    "\n",
    "def evaluate_expression_real(expr, z_value_tuple):\n",
    "    \"\"\"Evaluates a complex function using only real arithmetic.\"\"\"\n",
    "    \n",
    "    if isinstance(expr, (int, float)):\n",
    "        return (expr, 0)\n",
    "    \n",
    "    if isinstance(expr, tuple) and len(expr) == 2 and all(isinstance(i, (int, float)) for i in expr):\n",
    "        return expr\n",
    "    \n",
    "    operation = expr[0]\n",
    "    \n",
    "    if operation == \"mul\":\n",
    "        return complex_mul(evaluate_expression_real(expr[1], z_value_tuple), evaluate_expression_real(expr[2], z_value_tuple))\n",
    "    elif operation == \"pow\":\n",
    "        return complex_pow(evaluate_expression_real(expr[1], z_value_tuple), expr[2])\n",
    "    elif operation == \"cos\":\n",
    "        return complex_cos(evaluate_expression_real(expr[1], z_value_tuple))\n",
    "    elif operation == \"sub\":\n",
    "        left = evaluate_expression_real(expr[1], z_value_tuple)\n",
    "        right = evaluate_expression_real(expr[2], z_value_tuple)\n",
    "        return (left[0] - right[0], left[1] - right[1])\n",
    "    elif operation == \"z\":\n",
    "        return z_value_tuple\n",
    "    else:\n",
    "        raise ValueError(f\"Unsupported operation: {operation}\")\n"
   ]
  },
  {
   "cell_type": "code",
   "execution_count": 3,
   "id": "a4e63eea",
   "metadata": {},
   "outputs": [
    {
     "data": {
      "text/plain": [
       "('sub', ('mul', ('mul', ('mul', 'z', 'z'), 'z'), ('cos', 'z')), 1)"
      ]
     },
     "execution_count": 3,
     "metadata": {},
     "output_type": "execute_result"
    }
   ],
   "source": [
    "\n",
    "import ast\n",
    "\n",
    "def generate_expression(node):\n",
    "    \"\"\"Generates an array of operations for a given AST node.\"\"\"\n",
    "    \n",
    "    if isinstance(node, ast.BinOp):\n",
    "        if isinstance(node.op, ast.Mult):\n",
    "            return (\"mul\", generate_expression(node.left), generate_expression(node.right))\n",
    "        elif isinstance(node.op, ast.Sub):\n",
    "            return (\"sub\", generate_expression(node.left), generate_expression(node.right))\n",
    "        elif isinstance(node.op, ast.Pow):\n",
    "            return (\"pow\", generate_expression(node.left), generate_expression(node.right))\n",
    "        else:\n",
    "            raise ValueError(f\"Unsupported binary operation: {type(node.op)}\")\n",
    "    \n",
    "    elif isinstance(node, ast.UnaryOp):\n",
    "        if isinstance(node.op, ast.USub):\n",
    "            return (\"neg\", generate_expression(node.operand))\n",
    "        else:\n",
    "            raise ValueError(f\"Unsupported unary operation: {type(node.op)}\")\n",
    "    \n",
    "    elif isinstance(node, ast.Call):\n",
    "        if isinstance(node.func, ast.Name) and node.func.id == \"cos\":\n",
    "            return (\"cos\", generate_expression(node.args[0]))\n",
    "        else:\n",
    "            raise ValueError(f\"Unsupported function: {node.func.id}\")\n",
    "    \n",
    "    elif isinstance(node, ast.Name):\n",
    "        if node.id == \"z\":\n",
    "            return \"z\"\n",
    "        else:\n",
    "            raise ValueError(f\"Unsupported variable: {node.id}\")\n",
    "    \n",
    "    elif isinstance(node, ast.Num):\n",
    "        return node.n\n",
    "    \n",
    "    else:\n",
    "        raise ValueError(f\"Unsupported node type: {type(node)}\")\n",
    "\n",
    "def expression_from_string(s):\n",
    "    \"\"\"Generates the array of operations from a string representation of a function.\"\"\"\n",
    "    \n",
    "    parsed_expr = ast.parse(s, mode='eval').body\n",
    "    return generate_expression(parsed_expr)\n",
    "\n",
    "# Generate the representation for the function \"z^3 * cos(z) - 1\"\n",
    "expr_str = \"z*z*z*cos(z)-1\"\n",
    "generated_expr = expression_from_string(expr_str)\n",
    "generated_expr\n"
   ]
  },
  {
   "cell_type": "code",
   "execution_count": 4,
   "id": "d9c11ab8",
   "metadata": {},
   "outputs": [
    {
     "data": {
      "text/plain": [
       "(-0.6896646387365681, 3.6452554617880284)"
      ]
     },
     "execution_count": 4,
     "metadata": {},
     "output_type": "execute_result"
    }
   ],
   "source": [
    "\n",
    "# Test the evaluator with the generated expression and z = (1, 1)\n",
    "test_value_tuple = (1, 1)\n",
    "print(generated_expr)\n",
    "evaluate_expression_real(generated_expr, test_value_tuple)\n"
   ]
  }
 ],
 "metadata": {
  "kernelspec": {
   "display_name": "venv",
   "language": "python",
   "name": "python3"
  },
  "language_info": {
   "codemirror_mode": {
    "name": "ipython",
    "version": 3
   },
   "file_extension": ".py",
   "mimetype": "text/x-python",
   "name": "python",
   "nbconvert_exporter": "python",
   "pygments_lexer": "ipython3",
   "version": "3.11.4"
  }
 },
 "nbformat": 4,
 "nbformat_minor": 5
}
